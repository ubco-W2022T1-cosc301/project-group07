{
 "cells": [
  {
   "cell_type": "markdown",
   "metadata": {},
   "source": [
    "# Orvin Tritama"
   ]
  },
  {
   "cell_type": "markdown",
   "metadata": {},
   "source": [
    "## Research question/interests\n",
    "\n",
    "With the conclusion in our team's discussion, my team and I will be analyzing dataset in the video gaming industry. With the everchanging nature of technology, video game industries have been changing in terms of the services and subscriptions that they use to develop and offer to the users using the updated tools and technologies in the field. With the rapid growth in the industry, I am interested in analyzing the shift in trend of platforms used in the video gaming industry, ranging from the retro-gaming to modernized-gaming consoles overtime from 1995 to 2020."
   ]
  },
  {
   "cell_type": "code",
   "execution_count": 1,
   "metadata": {},
   "outputs": [],
   "source": [
    "import pandas as pd\n",
    "import seaborn as sns\n",
    "import numpy as np\n",
    "import datetime"
   ]
  },
  {
   "cell_type": "markdown",
   "metadata": {},
   "source": [
    "## Loading Data\n",
    "\n",
    "Here my analysis data is loaded from the path as passed in read_csv. Here you can see the first 5 and the 5 elements of the (partially) cleaned data.\n",
    "*Note: Data is (partially) cleaned, all the columns that are unused by all team members have been removed, however as I progressed in my analysis, I will be cleaning the rest of the data that is not used for my purposes*"
   ]
  },
  {
   "cell_type": "code",
   "execution_count": 2,
   "metadata": {},
   "outputs": [
    {
     "name": "stdout",
     "output_type": "stream",
     "text": [
      "                                   name      platform     r-date  \\\n",
      "0  The Legend of Zelda: Ocarina of Time    Nintendo64  23-Nov-98   \n",
      "1              Tony Hawk's Pro Skater 2   PlayStation  20-Sep-00   \n",
      "2                   Grand Theft Auto IV  PlayStation3  29-Apr-08   \n",
      "3                           SoulCalibur     Dreamcast  08-Sep-99   \n",
      "4                   Grand Theft Auto IV       Xbox360  29-Apr-08   \n",
      "\n",
      "                developer                                      genre   players  \n",
      "0                Nintendo                   Action Adventure,Fantasy  1 Player  \n",
      "1  NeversoftEntertainment           Sports,Alternative,Skateboarding    02-Jan  \n",
      "2           RockstarNorth  Action Adventure,Modern,Modern,Open-World  1 Player  \n",
      "3                   Namco                         Action,Fighting,3D    02-Jan  \n",
      "4           RockstarNorth  Action Adventure,Modern,Modern,Open-World  1 Player  \n",
      "                                               name      platform     r-date  \\\n",
      "17939                        Vroom in the Night Sky        Switch  05-Apr-17   \n",
      "17940           Leisure Suit Larry: Box Office Bust  PlayStation3  05-May-09   \n",
      "17941                                         Yaris       Xbox360  10-Oct-07   \n",
      "17942                     Ride to Hell: Retribution            PC  24-Jun-13   \n",
      "17943  Family Party: 30 Great Games Obstacle Arcade          WiiU  04-Dec-12   \n",
      "\n",
      "                   developer  \\\n",
      "17939                Poisoft   \n",
      "17940                 Team17   \n",
      "17941  BackboneEntertainment   \n",
      "17942   Eutechnyx,DeepSilver   \n",
      "17943            ArtCo.,Ltd.   \n",
      "\n",
      "                                                   genre  \\\n",
      "17939                           Sports,Individual,Biking   \n",
      "17940  Action Adventure,Adventure,Third-Person,Open-W...   \n",
      "17941            Driving,Racing,Arcade,Arcade,Automobile   \n",
      "17942  Driving,Modern,Racing,Motorcycle,Motocross,Mod...   \n",
      "17943         Miscellaneous,Party,Party,Party / Minigame   \n",
      "\n",
      "                     players  \n",
      "17939  No Online Multiplayer  \n",
      "17940  No Online Multiplayer  \n",
      "17941              2  Online  \n",
      "17942                No info  \n",
      "17943  No Online Multiplayer  \n"
     ]
    }
   ],
   "source": [
    "df = pd.read_csv (r'../data/processed/games-data-processed.csv')\n",
    "print (df.head(n=5))\n",
    "print(df.tail(n=5))"
   ]
  },
  {
   "cell_type": "markdown",
   "metadata": {},
   "source": [
    "## Cleaning Data\n",
    "In this part, I will remove most of the columns that are not used in my data analysis.  \n",
    "To answer my research question focusing on the trend of gaming platform overtime, we will focus only on two columns from the dataset, which are **platform** and **r-date**. However, I will keep the 'name' column in my analysis for the purposes of readibility and comprehension of our dataset for the user. "
   ]
  },
  {
   "cell_type": "code",
   "execution_count": 3,
   "metadata": {},
   "outputs": [
    {
     "name": "stdout",
     "output_type": "stream",
     "text": [
      "Here is a sample of the first five rows in my cleaned data\n",
      "\n",
      "                                   name      platform     r-date\n",
      "0  The Legend of Zelda: Ocarina of Time    Nintendo64  23-Nov-98\n",
      "1              Tony Hawk's Pro Skater 2   PlayStation  20-Sep-00\n",
      "2                   Grand Theft Auto IV  PlayStation3  29-Apr-08\n",
      "3                           SoulCalibur     Dreamcast  08-Sep-99\n",
      "4                   Grand Theft Auto IV       Xbox360  29-Apr-08\n"
     ]
    }
   ],
   "source": [
    "orvin_df = df.drop(columns=['genre','players', 'developer'])\n",
    "\n",
    "print('Here is a sample of the first five rows in my cleaned data\\n')\n",
    "print(orvin_df.head(n=5))"
   ]
  },
  {
   "cell_type": "markdown",
   "metadata": {
    "tags": []
   },
   "source": [
    "## Process Data\n",
    "In this part, I will process some of data mainly for the **platform** and **r-date**.  \n",
    "1. For the platform, For easier readibility, I will add a space in between any platform names that contain characters and number in it. For example: Nintendo64 to Nintendo 64, XBOX360 to XBOX 360 and so on. \n",
    "\n",
    "2. For the r-date, I will convert the months of the date into using numbers, i.e: January=1, February=2, and so on. Also, I will convert the date to follow Canadian Date Format which is {YYYY-MM-DD} from the given {DD-Month-YY'} format. Finally, this date will be converted to a datetime object using `.dt.date` to remove the timezone information and HH:MM:SS\n",
    "\n",
    "3. Since I will be looking at the trend of the changes of platform overtime, I'm interested in finding the days the platform are created since 1998. I will create a new column that will find the number of days the platform are created since 1998. <br>*Note: Here 1998 is not the first time platform is built. 1998 here acts as a starting point of when the platform is built since it's the only data that is available. This means, the min() value of the New_Release_Date column is the benchmark of the first day the platform is built.* "
   ]
  },
  {
   "cell_type": "code",
   "execution_count": 4,
   "metadata": {},
   "outputs": [
    {
     "name": "stdout",
     "output_type": "stream",
     "text": [
      "                                   name      platform     r-date  \\\n",
      "0  The Legend of Zelda: Ocarina of Time    Nintendo64  23-Nov-98   \n",
      "1              Tony Hawk's Pro Skater 2   PlayStation  20-Sep-00   \n",
      "2                   Grand Theft Auto IV  PlayStation3  29-Apr-08   \n",
      "3                           SoulCalibur     Dreamcast  08-Sep-99   \n",
      "4                   Grand Theft Auto IV       Xbox360  29-Apr-08   \n",
      "\n",
      "  New_Release_Date  \n",
      "0       1998-11-23  \n",
      "1       2000-09-20  \n",
      "2       2008-04-29  \n",
      "3       1999-09-08  \n",
      "4       2008-04-29  \n"
     ]
    }
   ],
   "source": [
    "# NOT DONE\n",
    "\n",
    "newDate = []\n",
    "\n",
    "for index, row in df.iterrows():\n",
    "        year = row['r-date'][7:9]\n",
    "        if ( int(year) > 97 ):\n",
    "            year = '19' + row['r-date'][7:9]\n",
    "        else:\n",
    "            year = '20' + row['r-date'][7:9]\n",
    "        date = row['r-date'][0:2]\n",
    "        month_name = row['r-date'][3:6]\n",
    "        # month_name = finalDate[5:8]\n",
    "        mnum = datetime.datetime.strptime(month_name, '%b').month\n",
    "        finalDate = datetime.datetime(int(year), mnum, int(date))\n",
    "        newDate.append(finalDate)\n",
    "# for i in range(5):\n",
    "    # print(newDate[i])\n",
    "# # insert the newDate to the last position of dataframe\n",
    "orvin_df.insert(loc=len(orvin_df.columns),column=\"New_Release_Date\",value=newDate)\n",
    "# # change the format to remove the timezone information and HH:MM:SS\n",
    "orvin_df[\"New_Release_Date\"] = orvin_df[\"New_Release_Date\"].dt.date\n",
    "print(orvin_df.head(n=5))\n",
    "\n",
    "# For repeating and testing purposes\n",
    "# orvin_df = orvin_df.drop(columns=[\"New_Release_Date\"])"
   ]
  },
  {
   "cell_type": "code",
   "execution_count": 6,
   "metadata": {},
   "outputs": [
    {
     "name": "stdout",
     "output_type": "stream",
     "text": [
      "The first platform created based on the dataset is: 1998-01-21\n"
     ]
    }
   ],
   "source": [
    "first_platform_release_date = orvin_df[\"New_Release_Date\"].min()\n",
    "print(f'The first platform created based on the dataset is: {first_platform_release_date}')"
   ]
  },
  {
   "cell_type": "code",
   "execution_count": 7,
   "metadata": {},
   "outputs": [
    {
     "name": "stdout",
     "output_type": "stream",
     "text": [
      "                                   name      platform     r-date  \\\n",
      "0  The Legend of Zelda: Ocarina of Time    Nintendo64  23-Nov-98   \n",
      "1              Tony Hawk's Pro Skater 2   PlayStation  20-Sep-00   \n",
      "2                   Grand Theft Auto IV  PlayStation3  29-Apr-08   \n",
      "3                           SoulCalibur     Dreamcast  08-Sep-99   \n",
      "4                   Grand Theft Auto IV       Xbox360  29-Apr-08   \n",
      "\n",
      "  New_Release_Date  \n",
      "0       1998-11-23  \n",
      "1       2000-09-20  \n",
      "2       2008-04-29  \n",
      "3       1999-09-08  \n",
      "4       2008-04-29  \n"
     ]
    }
   ],
   "source": [
    "days_since_first = (orvin_df[\"New_Release_Date\"] - first_platform_release_date).dt.days; \n",
    "orvin_df.insert(loc=len(orvin_df.columns),column=\"days_since\",value=days_since_first)\n",
    "print(orvin_df.head(n=5))\n",
    "\n",
    "# only UNCOMMENT drop and comment the rest to redo the repeat doing the question \n",
    "# orvin_df = orvin_df.drop(columns=[\"days_since\"])"
   ]
  },
  {
   "cell_type": "code",
   "execution_count": null,
   "metadata": {},
   "outputs": [],
   "source": []
  }
 ],
 "metadata": {
  "kernelspec": {
   "display_name": "Python 3 (ipykernel)",
   "language": "python",
   "name": "python3"
  },
  "language_info": {
   "codemirror_mode": {
    "name": "ipython",
    "version": 3
   },
   "file_extension": ".py",
   "mimetype": "text/x-python",
   "name": "python",
   "nbconvert_exporter": "python",
   "pygments_lexer": "ipython3",
   "version": "3.9.12"
  }
 },
 "nbformat": 4,
 "nbformat_minor": 4
}
