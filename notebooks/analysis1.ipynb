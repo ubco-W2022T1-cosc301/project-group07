{
 "cells": [
  {
   "cell_type": "markdown",
   "metadata": {},
   "source": [
    "# Kate Naychuk\n"
   ]
  },
  {
   "cell_type": "markdown",
   "metadata": {},
   "source": [
    "## Research question/interests\n",
    "\n",
    "For this data analysis project, I have chosen to find the relationship between the genre of video game and the number of players each game allows. Is there a specific genre that leans towards multiplayer or single player? Does this relationship affect the diversity amongst popular titles? These are just some of the questions I hope to exlore. Answering these may be useful in predicting what to expect from upcoming video games or to provide the relevant information needed to create a unique product. My goal is to find out if there are any patterns, analyze them, and understand why they may occur."
   ]
  },
  {
   "cell_type": "code",
   "execution_count": null,
   "metadata": {},
   "outputs": [],
   "source": [
    "import pandas as pd"
   ]
  },
  {
   "cell_type": "code",
   "execution_count": null,
   "metadata": {},
   "outputs": [
    {
     "name": "stdout",
     "output_type": "stream",
     "text": [
      "                                               name      platform     r-date  \\\n",
      "0              The Legend of Zelda: Ocarina of Time    Nintendo64  23-Nov-98   \n",
      "1                          Tony Hawk's Pro Skater 2   PlayStation  20-Sep-00   \n",
      "2                               Grand Theft Auto IV  PlayStation3  29-Apr-08   \n",
      "3                                       SoulCalibur     Dreamcast  08-Sep-99   \n",
      "4                               Grand Theft Auto IV       Xbox360  29-Apr-08   \n",
      "...                                             ...           ...        ...   \n",
      "17939                        Vroom in the Night Sky        Switch  05-Apr-17   \n",
      "17940           Leisure Suit Larry: Box Office Bust  PlayStation3  05-May-09   \n",
      "17941                                         Yaris       Xbox360  10-Oct-07   \n",
      "17942                     Ride to Hell: Retribution            PC  24-Jun-13   \n",
      "17943  Family Party: 30 Great Games Obstacle Arcade          WiiU  04-Dec-12   \n",
      "\n",
      "                    developer  \\\n",
      "0                    Nintendo   \n",
      "1      NeversoftEntertainment   \n",
      "2               RockstarNorth   \n",
      "3                       Namco   \n",
      "4               RockstarNorth   \n",
      "...                       ...   \n",
      "17939                 Poisoft   \n",
      "17940                  Team17   \n",
      "17941   BackboneEntertainment   \n",
      "17942    Eutechnyx,DeepSilver   \n",
      "17943             ArtCo.,Ltd.   \n",
      "\n",
      "                                                   genre  \\\n",
      "0                               Action Adventure,Fantasy   \n",
      "1                       Sports,Alternative,Skateboarding   \n",
      "2              Action Adventure,Modern,Modern,Open-World   \n",
      "3                                     Action,Fighting,3D   \n",
      "4              Action Adventure,Modern,Modern,Open-World   \n",
      "...                                                  ...   \n",
      "17939                           Sports,Individual,Biking   \n",
      "17940  Action Adventure,Adventure,Third-Person,Open-W...   \n",
      "17941            Driving,Racing,Arcade,Arcade,Automobile   \n",
      "17942  Driving,Modern,Racing,Motorcycle,Motocross,Mod...   \n",
      "17943         Miscellaneous,Party,Party,Party / Minigame   \n",
      "\n",
      "                     players  \n",
      "0                   1 Player  \n",
      "1                     02-Jan  \n",
      "2                   1 Player  \n",
      "3                     02-Jan  \n",
      "4                   1 Player  \n",
      "...                      ...  \n",
      "17939  No Online Multiplayer  \n",
      "17940  No Online Multiplayer  \n",
      "17941              2  Online  \n",
      "17942                No info  \n",
      "17943  No Online Multiplayer  \n",
      "\n",
      "[17944 rows x 6 columns]\n"
     ]
    }
   ],
   "source": [
    "df = pd.read_csv(r'../data/processed/games-data-processed.csv')\n",
    "print(df)"
   ]
  }
 ],
 "metadata": {
  "kernelspec": {
   "display_name": "Python 3 (ipykernel)",
   "language": "python",
   "name": "python3"
  }
 },
 "nbformat": 4,
 "nbformat_minor": 4
}
