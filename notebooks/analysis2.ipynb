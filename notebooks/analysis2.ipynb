{
 "cells": [
  {
   "cell_type": "markdown",
   "metadata": {},
   "source": [
    "# Fareeha Hayat"
   ]
  },
  {
   "cell_type": "markdown",
   "metadata": {},
   "source": [
    "## Research question/interests\n",
    "\n",
    "The Metacritic video game dataset can be used as a tool to analyze different trends that arise by comparing different columns, because of the different kinds of information each provides. A video game has a developer, and a developer may have multiple video games. Similarly, a video game has a genre, and a genre may apply to many different video games. Video game genres wax and wane in popularity. Also, video game developers do not necessarily restrict themselves to one particular genre. I wanted to explore the relationship between developer and genre: is there a specific genre that a developer tends to develop games of? If so, has this trend changed over the years for any particular developer, or has it remained largely the same?"
   ]
  },
  {
   "cell_type": "code",
   "execution_count": null,
   "metadata": {},
   "outputs": [],
   "source": [
    "import pandas as pd"
   ]
  },
  {
   "cell_type": "code",
   "execution_count": null,
   "metadata": {},
   "outputs": [],
   "source": [
    "df = pd.read_csv(r'../data/processed/games-data-processed.csv')\n",
    "print(df)"
   ]
  }
 ],
 "metadata": {},
 "nbformat": 4,
 "nbformat_minor": 2
}
